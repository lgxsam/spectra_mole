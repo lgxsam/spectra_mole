{
 "cells": [
  {
   "cell_type": "code",
   "execution_count": null,
   "metadata": {},
   "outputs": [],
   "source": [
    "%matplotlib inline"
   ]
  },
  {
   "cell_type": "code",
   "execution_count": null,
   "metadata": {},
   "outputs": [],
   "source": [
    "import sys, os\n",
    "import csv\n",
    "import matplotlib\n",
    "#matplotlib.use('Agg')\n",
    "#import collections\n",
    "\n",
    "import datetime\n",
    "import toml\n",
    "import netCDF4\n",
    "import numpy as np\n",
    "import matplotlib.pyplot as plt\n",
    "\n",
    "import spectra_mole\n",
    "from spectra_mole import h"
   ]
  },
  {
   "cell_type": "code",
   "execution_count": null,
   "metadata": {},
   "outputs": [],
   "source": [
    "files = {'spec': '../../colrawi/cloudradar/spectra/D20150617_T0000_0000_Lin_zspc2nc_v1_02_standard.nc4',\n",
    "         'mmclx': '../../colrawi/cloudradar/mmclx/20150617_0000.mmclx',\n",
    "         'rwp': '../../colrawi/windprofiler/nc/wp_20150617_043156.nc.iop',\n",
    "         'cloudnet': '../../colrawi/cloudnet/20150617_lindenberg_categorize.nc'}\n",
    "\n",
    "toml_file = '../filenames.toml'\n",
    "with open(toml_file) as f:\n",
    "    all_files = toml.loads(f.read())\n",
    "\n",
    "\n",
    "all_files['20150617a']\n",
    "    "
   ]
  },
  {
   "cell_type": "code",
   "execution_count": null,
   "metadata": {
    "scrolled": false
   },
   "outputs": [],
   "source": [
    "def load_csv():\n",
    "    filename = '../cases.csv'\n",
    "    #filename = '../cases_LDR.csv'\n",
    "    filename = '../cases_calibration.csv'\n",
    "    data = []\n",
    "    with open(filename, 'r') as f:\n",
    "        reader = csv.reader(f, delimiter=';')\n",
    "        header = next(reader)\n",
    "        print(header)\n",
    "        for row in reader:\n",
    "            if not row[0][0] == '#':\n",
    "                d = {k:v for k, v in zip(header, row)}\n",
    "                d['dt'] = datetime.datetime.strptime(d['datetime'], '%Y-%m-%d-%H:%M:%S')\n",
    "                data.append(d)\n",
    "    return data\n",
    "\n",
    "csv_file = load_csv()\n",
    "\n",
    "for case in csv_file:\n",
    "    dt = case['dt']\n",
    "    rg = float(case['range'])    \n",
    "    files = all_files[case['file_specifier']]\n",
    "    cr = spectra_mole.mira(files)\n",
    "    rwp = spectra_mole.rwp(files)\n",
    "    advect = spectra_mole.advection.cloudnet_advect(files['cloudnet'])\n",
    "    \n",
    "    corr = spectra_mole.correct_pixel(cr, rwp, advect, h.dt_to_ts(dt), rg, visualize=True)\n",
    "    print('flag ', corr['flag'], corr['bflag'])\n",
    "    print(\"cal corr\", corr[\"cal_corr\"], corr[\"cal_const\"])\n",
    "    for k in corr.keys():\n",
    "        print(k)\n",
    "        if type(corr[k]) is dict:\n",
    "            for kn in corr[k].keys():\n",
    "                print('  ', kn)\n",
    "    if 'spec_broad' in corr.keys():\n",
    "        print('cr broad ', corr['spec_broad']['moments'])\n"
   ]
  },
  {
   "cell_type": "code",
   "execution_count": null,
   "metadata": {},
   "outputs": [],
   "source": []
  }
 ],
 "metadata": {
  "kernelspec": {
   "display_name": "Python 3",
   "language": "python",
   "name": "python3"
  },
  "language_info": {
   "codemirror_mode": {
    "name": "ipython",
    "version": 3
   },
   "file_extension": ".py",
   "mimetype": "text/x-python",
   "name": "python",
   "nbconvert_exporter": "python",
   "pygments_lexer": "ipython3",
   "version": "3.5.2"
  }
 },
 "nbformat": 4,
 "nbformat_minor": 2
}
